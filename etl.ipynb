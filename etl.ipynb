{
 "cells": [
  {
   "metadata": {},
   "cell_type": "markdown",
   "source": "# 1. Etração dos dados",
   "id": "79e9a6d5000f5b72"
  },
  {
   "metadata": {},
   "cell_type": "markdown",
   "source": "### imports",
   "id": "330b34d4ac401dcd"
  },
  {
   "metadata": {
    "ExecuteTime": {
     "end_time": "2025-07-28T20:13:29.596160Z",
     "start_time": "2025-07-28T20:13:29.589530Z"
    }
   },
   "cell_type": "code",
   "source": [
    "import numpy as np\n",
    "import pandas as pd\n",
    "from sqlalchemy import create_engine"
   ],
   "id": "87c5e3fc665a8ec0",
   "outputs": [],
   "execution_count": 157
  },
  {
   "metadata": {},
   "cell_type": "markdown",
   "source": "### Criando conexão os bancos de dados (transacional e DW)",
   "id": "f5b2f312acde58fd"
  },
  {
   "cell_type": "code",
   "id": "initial_id",
   "metadata": {
    "collapsed": true,
    "ExecuteTime": {
     "end_time": "2025-07-28T20:13:29.666486Z",
     "start_time": "2025-07-28T20:13:29.653079Z"
    }
   },
   "source": [
    "DB_HOST_ORIGEM = \"localhost\"\n",
    "DB_NAME_ORIGEM = \"crm_transacional_db\"\n",
    "DB_USER_ORIGEM = \"crm_user\"\n",
    "DB_PASSWORD_ORIGEM = \"crm_password\"\n",
    "DB_PORT_ORIGEM = \"5432\"\n",
    "\n",
    "conexao_origem_str = (\n",
    "    f\"postgresql://{DB_USER_ORIGEM}:{DB_PASSWORD_ORIGEM}@\"\n",
    "    f\"{DB_HOST_ORIGEM}:{DB_PORT_ORIGEM}/{DB_NAME_ORIGEM}\"\n",
    ")\n",
    "engine_origem = create_engine(conexao_origem_str)\n",
    "\n",
    "\n",
    "DB_HOST_DW = \"localhost\"\n",
    "DB_NAME_DW = \"dw_db\"\n",
    "DB_USER_DW = \"dw_user\"\n",
    "DB_PASSWORD_DW = \"dw_password\"\n",
    "DB_PORT_DW = \"5433\"\n",
    "\n",
    "conexao_dw_str = (\n",
    "    f\"postgresql://{DB_USER_DW}:{DB_PASSWORD_DW}@\"\n",
    "    f\"{DB_HOST_DW}:{DB_PORT_DW}/{DB_NAME_DW}\"\n",
    ")\n",
    "engine_dw = create_engine(conexao_dw_str)"
   ],
   "outputs": [],
   "execution_count": 158
  },
  {
   "metadata": {},
   "cell_type": "markdown",
   "source": "### Consumindo dados",
   "id": "2a8f8b3176bc774b"
  },
  {
   "metadata": {
    "ExecuteTime": {
     "end_time": "2025-07-28T20:13:30.690053Z",
     "start_time": "2025-07-28T20:13:29.709237Z"
    }
   },
   "cell_type": "code",
   "source": [
    "query_clientes = \"SELECT * FROM CLIENTE\"\n",
    "query_categoria_clientes = \"SELECT * FROM CATEGORIA_CLIENTE\"\n",
    "query_categoria_produto = \"SELECT * FROM CATEGORIA_PRODUTO\"\n",
    "query_fornecedores = \"SELECT * FROM FORNECEDORES\"\n",
    "query_item_vendas = \"SELECT * FROM ITEM_VENDAS\"\n",
    "query_localidade = \"SELECT * FROM LOCALIDADE\"\n",
    "query_lojas = \"SELECT * FROM LOJAS\"\n",
    "query_produtos = \"SELECT * FROM PRODUTO\"\n",
    "query_produto_fornecedor = \"SELECT * FROM PRODUTO_FORNECEDOR\"\n",
    "query_promocoes = \"SELECT * FROM PROMOCOES\"\n",
    "query_vendas = \"SELECT * FROM VENDAS\"\n",
    "query_vendedor = \"SELECT * FROM VENDEDOR\"\n",
    "\n",
    "\n",
    "df_clientes = pd.read_sql(query_clientes, engine_origem)\n",
    "df_categoria_clientes = pd.read_sql(query_categoria_clientes, engine_origem)\n",
    "df_categoria_produto = pd.read_sql(query_categoria_produto, engine_origem)\n",
    "df_fornecedores = pd.read_sql(query_fornecedores, engine_origem)\n",
    "df_item_vendas = pd.read_sql(query_item_vendas, engine_origem)\n",
    "df_localidade = pd.read_sql(query_localidade, engine_origem)\n",
    "df_lojas = pd.read_sql(query_lojas, engine_origem)\n",
    "df_produtos = pd.read_sql(query_produtos, engine_origem)\n",
    "df_produto_fornecedor = pd.read_sql(query_produto_fornecedor, engine_origem)\n",
    "df_promocoes = pd.read_sql(query_promocoes, engine_origem)\n",
    "df_vendas = pd.read_sql(query_vendas, engine_origem)\n",
    "df_vendedor = pd.read_sql(query_vendedor, engine_origem)"
   ],
   "id": "f4ae7439c83a8726",
   "outputs": [],
   "execution_count": 159
  },
  {
   "metadata": {},
   "cell_type": "markdown",
   "source": "### Verificando nome das colunas",
   "id": "147cb48f0dd6f229"
  },
  {
   "metadata": {
    "ExecuteTime": {
     "end_time": "2025-07-28T20:13:30.761260Z",
     "start_time": "2025-07-28T20:13:30.749016Z"
    }
   },
   "cell_type": "code",
   "source": [
    "dataframes = {\n",
    "        \"df_clientes\": df_clientes,\n",
    "        \"df_categoria_clientes\": df_categoria_clientes,\n",
    "        \"df_categoria_produto\": df_categoria_produto,\n",
    "        \"df_fornecedores\": df_fornecedores,\n",
    "        \"df_item_vendas\": df_item_vendas,\n",
    "        \"df_localidade\": df_localidade,\n",
    "        \"df_lojas\": df_lojas,\n",
    "        \"df_produtos\": df_produtos,\n",
    "        \"df_produto_fornecedor\": df_produto_fornecedor,\n",
    "        \"df_promocoes\": df_promocoes,\n",
    "        \"df_vendas\": df_vendas,\n",
    "        \"df_vendedor\": df_vendedor,\n",
    "}\n",
    "\n",
    "for df_name, df in dataframes.items():\n",
    "        print(f\"--- DataFrame: {df_name} ---\")\n",
    "        print(\"\\nColunas:\")\n",
    "        print(df.columns.tolist())\n",
    "        print(\"\\n\" + \"=\"*50 + \"\\n\")"
   ],
   "id": "99eee6e80567561a",
   "outputs": [
    {
     "name": "stdout",
     "output_type": "stream",
     "text": [
      "--- DataFrame: df_clientes ---\n",
      "\n",
      "Colunas:\n",
      "['id_cliente', 'nome_cliente', 'idade', 'genero', 'id_categoria_cliente', 'id_localidade']\n",
      "\n",
      "==================================================\n",
      "\n",
      "--- DataFrame: df_categoria_clientes ---\n",
      "\n",
      "Colunas:\n",
      "['id_categoria_cliente', 'nome_categoria_cliente']\n",
      "\n",
      "==================================================\n",
      "\n",
      "--- DataFrame: df_categoria_produto ---\n",
      "\n",
      "Colunas:\n",
      "['id_categoria_produto', 'nome_categoria_produto']\n",
      "\n",
      "==================================================\n",
      "\n",
      "--- DataFrame: df_fornecedores ---\n",
      "\n",
      "Colunas:\n",
      "['id_fornecedor', 'nome_fornecedor', 'pais_origem']\n",
      "\n",
      "==================================================\n",
      "\n",
      "--- DataFrame: df_item_vendas ---\n",
      "\n",
      "Colunas:\n",
      "['id_venda', 'id_produto', 'qtd_vendida', 'preco_venda', 'id_promocao_aplicada']\n",
      "\n",
      "==================================================\n",
      "\n",
      "--- DataFrame: df_localidade ---\n",
      "\n",
      "Colunas:\n",
      "['id_localidade', 'cidade', 'estado', 'regiao']\n",
      "\n",
      "==================================================\n",
      "\n",
      "--- DataFrame: df_lojas ---\n",
      "\n",
      "Colunas:\n",
      "['id_loja', 'nome_loja', 'gerente_loja', 'cidade', 'estado']\n",
      "\n",
      "==================================================\n",
      "\n",
      "--- DataFrame: df_produtos ---\n",
      "\n",
      "Colunas:\n",
      "['id_produto', 'nome_produto', 'id_categoria_produto']\n",
      "\n",
      "==================================================\n",
      "\n",
      "--- DataFrame: df_produto_fornecedor ---\n",
      "\n",
      "Colunas:\n",
      "['id_produto', 'id_fornecedor', 'custo_compra_unitario']\n",
      "\n",
      "==================================================\n",
      "\n",
      "--- DataFrame: df_promocoes ---\n",
      "\n",
      "Colunas:\n",
      "['id_promocao', 'nome_promocao', 'tipo_desconto', 'data_inicio', 'data_fim']\n",
      "\n",
      "==================================================\n",
      "\n",
      "--- DataFrame: df_vendas ---\n",
      "\n",
      "Colunas:\n",
      "['id_venda', 'data_venda', 'id_vendedor', 'id_cliente', 'id_loja', 'valor_total']\n",
      "\n",
      "==================================================\n",
      "\n",
      "--- DataFrame: df_vendedor ---\n",
      "\n",
      "Colunas:\n",
      "['id_vendedor', 'nome_vendedor']\n",
      "\n",
      "==================================================\n",
      "\n"
     ]
    }
   ],
   "execution_count": 160
  },
  {
   "metadata": {},
   "cell_type": "markdown",
   "source": "# 2. Transformação dos dados",
   "id": "728b519fd24ff447"
  },
  {
   "metadata": {},
   "cell_type": "markdown",
   "source": "### Dimensão clientes",
   "id": "be769d201dc93a6"
  },
  {
   "metadata": {
    "ExecuteTime": {
     "end_time": "2025-07-28T20:13:30.880140Z",
     "start_time": "2025-07-28T20:13:30.832348Z"
    }
   },
   "cell_type": "code",
   "source": [
    "# Idades que são nulas, menores que 1 e maiores que 100 recebem a média das idades como valor. Idade passa a ser inteiro.\n",
    "\n",
    "idade_para_media = df_clientes['idade'].copy()\n",
    "\n",
    "idade_para_media[idade_para_media < 1] = np.nan\n",
    "idade_para_media[idade_para_media > 100] = np.nan\n",
    "media_idades_validas = idade_para_media.mean()\n",
    "media_idades_validas = round(media_idades_validas)\n",
    "\n",
    "condicao_idade_invalida = (df_clientes['idade'] < 1) | \\\n",
    "                          (df_clientes['idade'] > 100) | \\\n",
    "                          (df_clientes['idade'].isnull())\n",
    "\n",
    "df_clientes.loc[condicao_idade_invalida, 'idade'] = media_idades_validas\n",
    "df_clientes['idade'] = df_clientes['idade'].astype(int)\n",
    "\n",
    "# Corrigindo valores para gênero\n",
    "\n",
    "mapeamento_genero = {\n",
    "    'F': 'Feminino',\n",
    "    'M': 'Masculino',\n",
    "    'Feminino': 'Feminino',\n",
    "    'Masculino': 'Masculino',\n",
    "    'outro': 'Outro'\n",
    "}\n",
    "\n",
    "df_clientes['genero'] = df_clientes['genero'].replace(mapeamento_genero)\n",
    "df_clientes['genero'] = df_clientes['genero'].fillna('Não informado')\n",
    "\n",
    "# Adicionando valor de categoria ao cliente\n",
    "\n",
    "df_clientes = pd.merge(\n",
    "    df_clientes,\n",
    "    df_categoria_clientes,\n",
    "    on='id_categoria_cliente',\n",
    "    how='left'\n",
    ")\n",
    "df_clientes['nome_categoria_cliente'] = df_clientes['nome_categoria_cliente'].fillna('Categoria não informada')\n",
    "\n",
    "\n",
    "# Criando dimensão do cliente\n",
    "\n",
    "dim_clientes = df_clientes[[\n",
    "    'id_cliente',\n",
    "    'nome_cliente',\n",
    "    'idade',\n",
    "    'genero',\n",
    "    'nome_categoria_cliente'\n",
    "]].rename(columns={\n",
    "    'id_cliente': 'id',\n",
    "    'nome_cliente': 'nome',\n",
    "    'nome_categoria_cliente': 'categoria'\n",
    "})\n",
    "\n"
   ],
   "id": "625780d679e9c022",
   "outputs": [],
   "execution_count": 161
  },
  {
   "metadata": {},
   "cell_type": "markdown",
   "source": "### Dimensões de cidade, estado e região",
   "id": "acb1b7e1f926462a"
  },
  {
   "metadata": {
    "ExecuteTime": {
     "end_time": "2025-07-28T20:13:31.333524Z",
     "start_time": "2025-07-28T20:13:31.318951Z"
    }
   },
   "cell_type": "code",
   "source": [
    "# Padronização dos valores (cidade, estado e região)\n",
    "\n",
    "df_localidade['cidade'] = df_localidade['cidade'].str.lower()\n",
    "df_localidade['cidade'] = df_localidade['cidade'].str.strip()\n",
    "\n",
    "df_localidade['regiao'] = df_localidade['regiao'].str.lower()\n",
    "df_localidade['regiao'] = df_localidade['regiao'].str.strip()\n",
    "\n",
    "df_localidade['estado'] = df_localidade['estado'].str.upper()\n",
    "df_localidade['estado'] = df_localidade['estado'].str.strip()\n",
    "\n",
    "# Adição de ID para cidade, estado e região\n",
    "\n",
    "df_localidade['id_cidade'] = pd.factorize(df_localidade['cidade'])[0] + 1\n",
    "df_localidade['id_regiao'] = pd.factorize(df_localidade['regiao'])[0] + 1\n",
    "df_localidade['id_estado'] = pd.factorize(df_localidade['estado'])[0] + 1\n",
    "\n",
    "# Criação de dimensões\n",
    "\n",
    "dim_cidade = df_localidade[['cidade', 'id_cidade']].drop_duplicates(subset=['id_cidade'])\n",
    "dim_estado = df_localidade[['estado', 'id_estado']].drop_duplicates(subset=['id_estado'])\n",
    "dim_regiao = df_localidade[['regiao', 'id_regiao']].drop_duplicates(subset=['id_regiao'])\n"
   ],
   "id": "8746013f07b65553",
   "outputs": [],
   "execution_count": 164
  },
  {
   "metadata": {},
   "cell_type": "markdown",
   "source": "### Dimensão Produto",
   "id": "f49fba78d6bf8628"
  },
  {
   "metadata": {
    "ExecuteTime": {
     "end_time": "2025-07-28T20:13:32.064276Z",
     "start_time": "2025-07-28T20:13:32.051233Z"
    }
   },
   "cell_type": "code",
   "source": [
    "# Adição das colunas de categoria_produto ao dataframe\n",
    "df_produtos = pd.merge(\n",
    "    df_produtos,\n",
    "    df_categoria_produto,\n",
    "    on='id_categoria_produto',\n",
    "    how='left'\n",
    ")\n",
    "\n",
    "# Tratamento de valores None e vazio no nome do produto\n",
    "nomes_produtos = {\n",
    "    '': 'Nome não informado',\n",
    "    None: 'Nome não informado',\n",
    "}\n",
    "df_produtos['nome_produto'] = df_produtos['nome_produto'].replace(nomes_produtos)\n",
    "\n",
    "\n",
    "# Tratamento do valores None e NaN na categoria do produto\n",
    "df_produtos['nome_categoria_produto'] = df_produtos['nome_categoria_produto'].fillna('Sem categoria')\n"
   ],
   "id": "ba18cdf584d4a7ce",
   "outputs": [],
   "execution_count": 167
  },
  {
   "metadata": {},
   "cell_type": "markdown",
   "source": "### Tabela fatos_vendas",
   "id": "fd2c8135ac614659"
  },
  {
   "metadata": {
    "ExecuteTime": {
     "end_time": "2025-07-28T20:25:27.093910Z",
     "start_time": "2025-07-28T20:25:27.024263Z"
    }
   },
   "cell_type": "code",
   "source": [
    "# União de vendas com itens_venda\n",
    "fato_vendas = pd.merge(\n",
    "    df_vendas,\n",
    "    df_item_vendas,\n",
    "    on='id_venda',\n",
    "    how='inner',\n",
    ")\n",
    "\n",
    "\n",
    "# Tratamento da coluna de data de vendas\n",
    "fato_vendas['data_venda'] = fato_vendas['data_venda'].replace(['N/A', 'Data Inválida', '', None, 'None'], np.nan)\n",
    "fato_vendas['data_venda'] = pd.to_datetime(fato_vendas['data_venda'], format='%Y-%m-%d', errors='coerce')\n",
    "\n",
    "\n",
    "# Tratamento da coluna de quantidade de vendas\n",
    "condicao_quantidade_produto = (fato_vendas['qtd_vendida'] < 1)\n",
    "fato_vendas.loc[condicao_quantidade_produto, 'qtd_vendida'] = None\n",
    "fato_vendas['qtd_vendida'] = fato_vendas['qtd_vendida'].astype('Int64')\n",
    "\n",
    "\n",
    "# Criação das colunas de localidade do cliente\n",
    "df_localidades_cliente = pd.merge(\n",
    "    df_clientes,\n",
    "    df_localidade,\n",
    "    on='id_localidade',\n",
    "    how='inner',\n",
    ")\n",
    "\n",
    "df_localidades_cliente = df_localidades_cliente.rename(columns={\n",
    "    'id_cidade': 'id_cidade_cliente',\n",
    "    'id_estado': 'id_estado_cliente',\n",
    "    'id_regiao': 'id_regiao_cliente',\n",
    "})[['id_cliente', 'id_cidade_cliente', 'id_estado_cliente', 'id_regiao_cliente']]\n",
    "\n",
    "\n",
    "# Adição das colunas de id_cidade, id_estado, id_regiao a fato_vendas\n",
    "fato_vendas = pd.merge(\n",
    "    fato_vendas,\n",
    "    df_localidades_cliente,\n",
    "    on='id_cliente',\n",
    "    how='left',\n",
    ")\n",
    "\n",
    "fato_vendas = fato_vendas.drop(['valor_total'], axis='columns')"
   ],
   "id": "3ab7e9f61108ea8",
   "outputs": [],
   "execution_count": 180
  }
 ],
 "metadata": {
  "kernelspec": {
   "display_name": "Python 3",
   "language": "python",
   "name": "python3"
  },
  "language_info": {
   "codemirror_mode": {
    "name": "ipython",
    "version": 2
   },
   "file_extension": ".py",
   "mimetype": "text/x-python",
   "name": "python",
   "nbconvert_exporter": "python",
   "pygments_lexer": "ipython2",
   "version": "2.7.6"
  }
 },
 "nbformat": 4,
 "nbformat_minor": 5
}
